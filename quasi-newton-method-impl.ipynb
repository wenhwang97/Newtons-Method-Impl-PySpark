{
 "cells": [
  {
   "cell_type": "markdown",
   "metadata": {},
   "source": [
    "# Quasi-Newton's Method Implementation in PySpark\n",
    "* Author: Wenhan Wang ([wenhwang@bu.edu](mailto:wenhwang@bu.edu) | [wenhan.wang97@gmail.com](mailto:wenhan.wang97@gmail.com))<br>\n",
    "* Latest update: 06/23/2022"
   ]
  },
  {
   "cell_type": "code",
   "execution_count": null,
   "metadata": {},
   "outputs": [],
   "source": [
    "from __future__ import print_function\n",
    "\n",
    "import pandas as pd\n",
    "import numpy as np\n",
    "import matplotlib.pyplot as plt\n",
    "import time\n",
    "\n",
    "from pyspark import SparkContext\n",
    "from pyspark.sql import SparkSession\n",
    "\n",
    "from sklearn.datasets import make_blobs"
   ]
  },
  {
   "cell_type": "markdown",
   "metadata": {},
   "source": [
    "Although the Newton's Method has much faster descent speed, the calculation is much more complicated which reduces the performance in some way. Specifically, the computation of Hessian Matrix will use a lot of time during each iteration. Calculating the inverse of it causes the most. Thus, we are looking for some other method that can simplified the computation.<br><br>\n",
    "Since the Hessian Matrix itself is hard to compute. We can find an alternative approach by borrowing the idea from Taylor Series.<br>\n",
    "\n",
    "$$\n",
    "f(x)=\\frac{f(x_0)}{0!} + \\frac{f'(x_0)}{1!}(x-x_0) + \\frac{f''(x)}{2!}(x-x_0)^2 + \\cdots + \\frac{f^{(n)}(x)}{n!}(x-x_0)^n\n",
    "$$\n",
    "\n",
    "We can change this representaion to:\n",
    "\n",
    "$$\n",
    "f(X)=f(X_{i+1}) + (X-X_{i+1})^T\\nabla f(X_{i+1}) + \\frac{(X-X_{i+1})^T}{2!}H_{i+1}(X-X_{i+1}) + \\cdots\n",
    "$$\n",
    "\n",
    "\n",
    "For each term in the series, the value will become smaller and smaller, and finally it will become small enough to be negligible. By taking the first several terms, we can get an approximation of the function. Then, we can replace the real Hessian Matrix with this estimated matrix. This is the basic theory of the Quasi-Newton Method."
   ]
  },
  {
   "cell_type": "markdown",
   "metadata": {},
   "source": [
    "## Davidon-Fletcher-Powell Optimization"
   ]
  },
  {
   "cell_type": "code",
   "execution_count": null,
   "metadata": {},
   "outputs": [],
   "source": [
    "# DFP (Davidon-Fletcher-Powell)\n",
    "# to be added"
   ]
  },
  {
   "cell_type": "markdown",
   "metadata": {},
   "source": [
    "## Broyden-Fletcher-Goldfard-Shano Optimization"
   ]
  },
  {
   "cell_type": "code",
   "execution_count": null,
   "metadata": {},
   "outputs": [],
   "source": [
    "# BFGS(Broyden-Fletcher-Goldfard-Shano)\n",
    "# to be added"
   ]
  }
 ],
 "metadata": {
  "language_info": {
   "name": "python"
  },
  "orig_nbformat": 4
 },
 "nbformat": 4,
 "nbformat_minor": 2
}
